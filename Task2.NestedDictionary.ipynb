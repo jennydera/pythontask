{
 "cells": [
  {
   "cell_type": "code",
   "execution_count": 1,
   "metadata": {},
   "outputs": [
    {
     "name": "stdout",
     "output_type": "stream",
     "text": [
      "{'Data': {'Names': ['Pretty Cynthia', 'Amaka Disappoint', 'Nedu Japan'], 'Scores': [40, 50, 60]}, 'Mobile_Development': {'Names': ['Jon Bellion', 'John Doe'], 'Scores': [70, 80]}, 'Frontend': {'Names': ['Dog Catcher', 'Beja Rat', 'Bitrus Beetroot', 'Doja Cat', 'Pyhon Ezege', 'Ada Ada'], 'Scores': [60, 70, 55, 34, 100, 93]}}\n"
     ]
    }
   ],
   "source": [
    "Names = ['Amaka Disappoint', 'Nedu Japan', 'Pretty Cynthia', 'Pretty Cynthia']\n",
    "Scores = [40, 50, 60]\n",
    "Data = {\n",
    "    \"Names\" : (list(set(Names))), # converting list to set and back to list to be able to remove duplicate values in the sequence of each list in the dictionary after which individual dictionaries were created.\n",
    "    'Scores': Scores\n",
    "}\n",
    "\n",
    "Names = ['John Doe', 'John Doe', 'John Doe', 'Jon Bellion', 'Jon Bellion']\n",
    "Scores = [70, 80]\n",
    "Mobile_Development = {\n",
    "    \"Names\" : (list(set(Names))),\n",
    "    'Scores': Scores\n",
    "}\n",
    "\n",
    "Names = ['Ada Ada', 'Pyhon Ezege', 'Dog Catcher', 'Bitrus Beetroot', 'Doja Cat', 'Beja Rat'],\n",
    "Scores = [ 60, 70, 55, 34, 100, 93]\n",
    "Frontend = {\n",
    "    \"Names\" : (list(set(Names))),\n",
    "    'Scores': Scores\n",
    "}\n",
    "\n",
    "TECH_ADAS = {\n",
    "  \"Data\" : Data,\n",
    "  \"Mobile_Development\" : Mobile_Development,\n",
    "  \"Frontend\" : Frontend\n",
    "}\n",
    "\n",
    "print(TECH_ADAS) # created dictionary without duplicates"
   ]
  }
 ],
 "metadata": {
  "kernelspec": {
   "display_name": "base",
   "language": "python",
   "name": "python3"
  },
  "language_info": {
   "codemirror_mode": {
    "name": "ipython",
    "version": 3
   },
   "file_extension": ".py",
   "mimetype": "text/x-python",
   "name": "python",
   "nbconvert_exporter": "python",
   "pygments_lexer": "ipython3",
   "version": "3.9.13"
  },
  "orig_nbformat": 4,
  "vscode": {
   "interpreter": {
    "hash": "ad2bdc8ecc057115af97d19610ffacc2b4e99fae6737bb82f5d7fb13d2f2c186"
   }
  }
 },
 "nbformat": 4,
 "nbformat_minor": 2
}
